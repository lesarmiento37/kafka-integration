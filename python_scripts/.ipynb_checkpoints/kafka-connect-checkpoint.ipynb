{
 "cells": [
  {
   "cell_type": "code",
   "execution_count": 2,
   "id": "5e16f079-6073-4c8f-b382-29d54f950a5b",
   "metadata": {},
   "outputs": [
    {
     "name": "stdout",
     "output_type": "stream",
     "text": [
      "Collecting psycopg2-binary\n",
      "  Downloading psycopg2_binary-2.9.10-cp39-cp39-manylinux_2_17_x86_64.manylinux2014_x86_64.whl (3.0 MB)\n",
      "\u001b[K     |████████████████████████████████| 3.0 MB 7.2 MB/s eta 0:00:01\n",
      "\u001b[?25hInstalling collected packages: psycopg2-binary\n",
      "Successfully installed psycopg2-binary-2.9.10\n"
     ]
    }
   ],
   "source": [
    "#!pip install psycopg2-binary"
   ]
  },
  {
   "cell_type": "code",
   "execution_count": 7,
   "id": "bca48ee6-ec89-4604-92e0-98be25ad2c31",
   "metadata": {},
   "outputs": [],
   "source": [
    "from kafka.admin import KafkaAdminClient, NewTopic\n",
    "import time\n",
    "from kafka import KafkaProducer\n",
    "import json\n",
    "import psycopg2"
   ]
  },
  {
   "cell_type": "code",
   "execution_count": 5,
   "id": "e0ec0635-5589-46c6-abed-173c6422d0d0",
   "metadata": {},
   "outputs": [
    {
     "name": "stdout",
     "output_type": "stream",
     "text": [
      "Table created and data inserted successfully!\n"
     ]
    }
   ],
   "source": [
    "# Database connection details\n",
    "db_params = {\n",
    "    \"dbname\": \"pokemondb\",\n",
    "    \"user\": \"leonardo\",\n",
    "    \"password\": \"leo123\",\n",
    "    \"host\": \"localhost\",\n",
    "    \"port\": \"5432\"\n",
    "}\n",
    "\n",
    "# Connect to PostgreSQL and create a table\n",
    "try:\n",
    "    conn = psycopg2.connect(**db_params)\n",
    "    cursor = conn.cursor()\n",
    "    \n",
    "    # Create a table\n",
    "    cursor.execute(\"\"\"\n",
    "        CREATE TABLE IF NOT EXISTS orders (\n",
    "            id SERIAL PRIMARY KEY,\n",
    "            customer_name VARCHAR(50),\n",
    "            product_name VARCHAR(50),\n",
    "            quantity INTEGER,\n",
    "            price NUMERIC\n",
    "        )\n",
    "    \"\"\")\n",
    "    conn.commit()\n",
    "\n",
    "    # Insert sample data\n",
    "    cursor.execute(\"\"\"\n",
    "        INSERT INTO orders (customer_name, product_name, quantity, price)\n",
    "        VALUES ('Alice', 'Laptop', 1, 1200.00)\n",
    "    \"\"\")\n",
    "    conn.commit()\n",
    "\n",
    "    print(\"Table created and data inserted successfully!\")\n",
    "except Exception as e:\n",
    "    print(\"Error:\", e)\n",
    "finally:\n",
    "    cursor.close()\n",
    "    conn.close()\n"
   ]
  },
  {
   "cell_type": "code",
   "execution_count": 8,
   "id": "b94e8566-b342-4402-a895-8bc9cb45f757",
   "metadata": {},
   "outputs": [],
   "source": [
    "# Kafka broker address\n",
    "bootstrap_servers = \"localhost:9092\""
   ]
  },
  {
   "cell_type": "code",
   "execution_count": 6,
   "id": "4079bb02-a167-47ac-bcaa-ec2eedc2537a",
   "metadata": {},
   "outputs": [
    {
     "ename": "ModuleNotFoundError",
     "evalue": "No module named 'confluent_kafka'",
     "output_type": "error",
     "traceback": [
      "\u001b[0;31m---------------------------------------------------------------------------\u001b[0m",
      "\u001b[0;31mModuleNotFoundError\u001b[0m                       Traceback (most recent call last)",
      "\u001b[0;32m/tmp/ipykernel_4209/2431109842.py\u001b[0m in \u001b[0;36m<module>\u001b[0;34m\u001b[0m\n\u001b[0;32m----> 1\u001b[0;31m \u001b[0;32mfrom\u001b[0m \u001b[0mconfluent_kafka\u001b[0m\u001b[0;34m.\u001b[0m\u001b[0madmin\u001b[0m \u001b[0;32mimport\u001b[0m \u001b[0mAdminClient\u001b[0m\u001b[0;34m,\u001b[0m \u001b[0mNewTopic\u001b[0m\u001b[0;34m\u001b[0m\u001b[0;34m\u001b[0m\u001b[0m\n\u001b[0m\u001b[1;32m      2\u001b[0m \u001b[0;34m\u001b[0m\u001b[0m\n\u001b[1;32m      3\u001b[0m \u001b[0;31m# Kafka broker configuration\u001b[0m\u001b[0;34m\u001b[0m\u001b[0;34m\u001b[0m\u001b[0m\n\u001b[1;32m      4\u001b[0m kafka_config = {\n\u001b[1;32m      5\u001b[0m     \u001b[0;34m'bootstrap.servers'\u001b[0m\u001b[0;34m:\u001b[0m \u001b[0;34m'localhost:9092'\u001b[0m  \u001b[0;31m# Ensure this matches your Docker setup\u001b[0m\u001b[0;34m\u001b[0m\u001b[0;34m\u001b[0m\u001b[0m\n",
      "\u001b[0;31mModuleNotFoundError\u001b[0m: No module named 'confluent_kafka'"
     ]
    }
   ],
   "source": [
    "def create_topic(bootstrap_servers,topic_name,num_partitions,replication_factor):\n",
    "    # Create Kafka Admin Client\n",
    "    admin_client = KafkaAdminClient(\n",
    "        bootstrap_servers=bootstrap_servers,\n",
    "        client_id=\"python_kafka_client\"\n",
    "    )\n",
    "    \n",
    "    # Define a new topic\n",
    "    new_topic = NewTopic(\n",
    "        name=topic_name,\n",
    "        num_partitions=num_partitions,\n",
    "        replication_factor=replication_factor\n",
    "    )\n",
    "    \n",
    "    try:\n",
    "        # Create the topic\n",
    "        admin_client.create_topics(new_topics=[new_topic], validate_only=False)\n",
    "        print(f\"Topic '{topic_name}' created successfully!\")\n",
    "    except Exception as e:\n",
    "        print(f\"An error occurred: {e}\")\n",
    "    finally:\n",
    "        admin_client.close()"
   ]
  },
  {
   "cell_type": "code",
   "execution_count": null,
   "id": "a589c0eb-d503-43fe-8f97-a81e79be6c3d",
   "metadata": {},
   "outputs": [],
   "source": []
  }
 ],
 "metadata": {
  "kernelspec": {
   "display_name": "Python 3 (ipykernel)",
   "language": "python",
   "name": "python3"
  },
  "language_info": {
   "codemirror_mode": {
    "name": "ipython",
    "version": 3
   },
   "file_extension": ".py",
   "mimetype": "text/x-python",
   "name": "python",
   "nbconvert_exporter": "python",
   "pygments_lexer": "ipython3",
   "version": "3.9.7"
  }
 },
 "nbformat": 4,
 "nbformat_minor": 5
}
