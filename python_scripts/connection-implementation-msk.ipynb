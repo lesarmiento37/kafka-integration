{
 "cells": [
  {
   "cell_type": "markdown",
   "id": "7248f9cf-43c0-4e1f-92f3-01a183513c75",
   "metadata": {},
   "source": [
    "# MSK Connection Test Project\n",
    "\n",
    "## Purpose\n",
    "\n",
    "The **MSK Connection Test Project** aims to assess the performance and connectivity of an **Amazon Managed Streaming for Apache Kafka (MSK)** cluster. The project provides a comprehensive testing framework to validate the following aspects of the MSK setup:\n",
    "\n",
    "- **Cluster Connectivity:** Ensuring secure and reliable connectivity to the MSK cluster using IAM-based SASL authentication.\n",
    "- **Producer Performance:** Measuring the ability to send messages to Kafka topics with proper error handling.\n",
    "- **Consumer Performance:** Validating the consumption of messages from Kafka topics with accurate metrics.\n",
    "- **Latency and Throughput:** Evaluating message delivery speed and capacity under varying load conditions.\n",
    "\n",
    "## Scope\n",
    "\n",
    "The project is designed for:\n",
    "\n",
    "- Performance benchmarking of an **MSK** cluster.\n",
    "- Security validation using **IAM-based SASL authentication**.\n",
    "- End-to-end testing of Kafka producer and consumer components.\n",
    "\n",
    "## Key Features\n",
    "\n",
    "- **Kafka Producer and Consumer Implementation:** The project includes Python-based implementations for both producer and consumer using the `kafka-python` library.\n",
    "- **IAM Authentication Integration:** Security is enforced through **MSK IAM SASL Signer** for authentication.\n",
    "- **Automated Topic Management:** The project can create and manage Kafka topics programmatically.\n",
    "- **Performance Metrics Collection:** Throughput, latency, and error rates are collected and visualized using Matplotlib.\n",
    "\n",
    "## Technologies Used\n",
    "\n",
    "- **Python 3.9.7**\n",
    "- **Amazon MSK**\n",
    "- **boto3** (AWS SDK for Python)\n",
    "- **kafka-python**\n",
    "- **aws-msk-iam-sasl-signer-python**\n",
    "\n",
    "## Project Workflow\n",
    "\n",
    "1. **Environment Setup:**\n",
    "   - Install required libraries (`boto3`, `kafka-python`, `aws-msk-iam-sasl-signer-python`).\n",
    "2. **Cluster Connection:**\n",
    "   - Initialize the MSK IAM Token Provider.\n",
    "   - Establish connection to the MSK cluster using public bootstrap servers.\n",
    "3. **Topic Management:**\n",
    "   - Programmatically create a new Kafka topic.\n",
    "4. **Producer Operations:**\n",
    "   - Send test messages to a Kafka topic and log the delivery status.\n",
    "5. **Consumer Operations:**\n",
    "   - Consume messages from the Kafka topic and log received messages.\n",
    "\n",
    "## Usage Instructions\n",
    "\n",
    "1. **Run the Notebook:** Execute the cells sequentially.\n",
    "2. **Modify Cluster Details:** Update the `bootstrap_servers` and `region` variables as needed.\n",
    "3. **Verify Message Delivery:** Check producer and consumer logs for successful message exchange.\n",
    "\n",
    "## Conclusion\n",
    "\n",
    "This project serves as a foundational tool for validating MSK cluster connectivity and performance. It can be extended for larger-scale tests and custom data generation scenarios.\n"
   ]
  },
  {
   "cell_type": "code",
   "execution_count": 1,
   "id": "61e24fdc-5371-4061-9af5-7a6d17385bdd",
   "metadata": {},
   "outputs": [
    {
     "name": "stdout",
     "output_type": "stream",
     "text": [
      "Collecting kafka-python\n",
      "  Downloading kafka_python-2.0.2-py2.py3-none-any.whl (246 kB)\n",
      "\u001b[K     |████████████████████████████████| 246 kB 6.3 MB/s eta 0:00:01\n",
      "\u001b[?25hInstalling collected packages: kafka-python\n",
      "Successfully installed kafka-python-2.0.2\n"
     ]
    }
   ],
   "source": [
    "!pip install kafka-python"
   ]
  },
  {
   "cell_type": "code",
   "execution_count": 2,
   "id": "5cca9ead-3fdf-40e3-bfac-a9b1f5860b29",
   "metadata": {},
   "outputs": [
    {
     "name": "stdout",
     "output_type": "stream",
     "text": [
      "Collecting aws-msk-iam-sasl-signer-python\n",
      "  Downloading aws_msk_iam_sasl_signer_python-1.0.1-py2.py3-none-any.whl (13 kB)\n",
      "Requirement already satisfied: Click>=7.0 in /home/leonardo/anaconda3/lib/python3.9/site-packages (from aws-msk-iam-sasl-signer-python) (8.0.3)\n",
      "Collecting botocore>=1.29.125\n",
      "  Downloading botocore-1.35.95-py3-none-any.whl (13.3 MB)\n",
      "\u001b[K     |████████████████████████████████| 13.3 MB 3.6 MB/s eta 0:00:01\n",
      "\u001b[?25hCollecting boto3>=1.26.125\n",
      "  Downloading boto3-1.35.95-py3-none-any.whl (139 kB)\n",
      "\u001b[K     |████████████████████████████████| 139 kB 39.8 MB/s eta 0:00:01\n",
      "\u001b[?25hCollecting s3transfer<0.11.0,>=0.10.0\n",
      "  Downloading s3transfer-0.10.4-py3-none-any.whl (83 kB)\n",
      "\u001b[K     |████████████████████████████████| 83 kB 2.1 MB/s  eta 0:00:01\n",
      "\u001b[?25hCollecting jmespath<2.0.0,>=0.7.1\n",
      "  Using cached jmespath-1.0.1-py3-none-any.whl (20 kB)\n",
      "Requirement already satisfied: urllib3<1.27,>=1.25.4 in /home/leonardo/anaconda3/lib/python3.9/site-packages (from botocore>=1.29.125->aws-msk-iam-sasl-signer-python) (1.26.7)\n",
      "Requirement already satisfied: python-dateutil<3.0.0,>=2.1 in /home/leonardo/anaconda3/lib/python3.9/site-packages (from botocore>=1.29.125->aws-msk-iam-sasl-signer-python) (2.8.2)\n",
      "Requirement already satisfied: six>=1.5 in /home/leonardo/anaconda3/lib/python3.9/site-packages (from python-dateutil<3.0.0,>=2.1->botocore>=1.29.125->aws-msk-iam-sasl-signer-python) (1.16.0)\n",
      "Installing collected packages: jmespath, botocore, s3transfer, boto3, aws-msk-iam-sasl-signer-python\n",
      "Successfully installed aws-msk-iam-sasl-signer-python-1.0.1 boto3-1.35.95 botocore-1.35.95 jmespath-1.0.1 s3transfer-0.10.4\n"
     ]
    }
   ],
   "source": [
    "!pip install aws-msk-iam-sasl-signer-python"
   ]
  },
  {
   "cell_type": "code",
   "execution_count": 11,
   "id": "1b3b7337-4a02-482c-b846-45fc1a87d31c",
   "metadata": {},
   "outputs": [
    {
     "name": "stdout",
     "output_type": "stream",
     "text": [
      "Requirement already satisfied: matplotlib in /home/leonardo/anaconda3/lib/python3.9/site-packages (3.4.3)\n",
      "Requirement already satisfied: pyparsing>=2.2.1 in /home/leonardo/anaconda3/lib/python3.9/site-packages (from matplotlib) (3.0.4)\n",
      "Requirement already satisfied: cycler>=0.10 in /home/leonardo/anaconda3/lib/python3.9/site-packages (from matplotlib) (0.10.0)\n",
      "Requirement already satisfied: python-dateutil>=2.7 in /home/leonardo/anaconda3/lib/python3.9/site-packages (from matplotlib) (2.8.2)\n",
      "Requirement already satisfied: numpy>=1.16 in /home/leonardo/anaconda3/lib/python3.9/site-packages (from matplotlib) (1.20.3)\n",
      "Requirement already satisfied: pillow>=6.2.0 in /home/leonardo/anaconda3/lib/python3.9/site-packages (from matplotlib) (8.4.0)\n",
      "Requirement already satisfied: kiwisolver>=1.0.1 in /home/leonardo/anaconda3/lib/python3.9/site-packages (from matplotlib) (1.3.1)\n",
      "Requirement already satisfied: six in /home/leonardo/anaconda3/lib/python3.9/site-packages (from cycler>=0.10->matplotlib) (1.16.0)\n"
     ]
    }
   ],
   "source": [
    "!pip install matplotlib"
   ]
  },
  {
   "cell_type": "code",
   "execution_count": 45,
   "id": "706677d1-e1df-4374-a083-b618c0f7c730",
   "metadata": {},
   "outputs": [],
   "source": [
    "from kafka.errors import KafkaError\n",
    "from kafka.admin import KafkaAdminClient, NewTopic\n",
    "import socket\n",
    "import time\n",
    "from aws_msk_iam_sasl_signer import MSKAuthTokenProvider\n",
    "import boto3\n",
    "import json\n",
    "import time\n",
    "from kafka import KafkaProducer,KafkaConsumer\n"
   ]
  },
  {
   "cell_type": "code",
   "execution_count": 4,
   "id": "70af3cf7-5a5e-4fc4-9f84-5f9c99d9cba7",
   "metadata": {},
   "outputs": [],
   "source": [
    "region = \"us-east-1\""
   ]
  },
  {
   "cell_type": "markdown",
   "id": "afe29643-e0f4-4aff-bf74-94f6c324d03d",
   "metadata": {},
   "source": [
    "# MSKTokenProvider Class Documentation\n",
    "\n",
    "## Purpose\n",
    "\n",
    "The `MSKTokenProvider` class is designed to generate an authentication token for **Amazon Managed Streaming for Apache Kafka (MSK)** using **IAM-based SASL authentication**. This token is required for secure communication with the MSK cluster and ensures only authorized clients can interact with the cluster.\n"
   ]
  },
  {
   "cell_type": "code",
   "execution_count": 5,
   "id": "ebf04cb5-ea00-4b9b-ad81-d05c505182e4",
   "metadata": {},
   "outputs": [],
   "source": [
    "class MSKTokenProvider():\n",
    "    def token(self):\n",
    "        token, _ = MSKAuthTokenProvider.generate_auth_token(region)\n",
    "        return token\n",
    "\n",
    "tp = MSKTokenProvider()"
   ]
  },
  {
   "cell_type": "markdown",
   "id": "a9346187-41ac-437b-9098-42790de6da58",
   "metadata": {},
   "source": [
    "# KafkaAdminClient Configuration Documentation\n",
    "\n",
    "## Purpose\n",
    "\n",
    "The code initializes a **KafkaAdminClient** for interacting with an **Amazon Managed Streaming for Apache Kafka (MSK)** cluster. This client is used to manage and administer Kafka resources such as topics, partitions, and configurations in a secure manner.\n",
    "\n"
   ]
  },
  {
   "cell_type": "code",
   "execution_count": 6,
   "id": "bed442c9-8731-4ee6-bd9d-1ec120426ba4",
   "metadata": {},
   "outputs": [],
   "source": [
    "admin_client = KafkaAdminClient(\n",
    "    bootstrap_servers=\"b-2-public.leonardocluster.ykfidp.c14.kafka.us-east-1.amazonaws.com:9198,b-1-public.leonardocluster.ykfidp.c14.kafka.us-east-1.amazonaws.com:9198\",\n",
    "    security_protocol=\"SASL_SSL\",\n",
    "    sasl_mechanism=\"OAUTHBEARER\",\n",
    "    sasl_oauth_token_provider=tp,\n",
    "    client_id=socket.gethostname(),\n",
    ")"
   ]
  },
  {
   "cell_type": "code",
   "execution_count": 7,
   "id": "8b7a5021-f20d-4fb4-b498-971d67d211d4",
   "metadata": {},
   "outputs": [],
   "source": [
    "def create_topic(topic_name, num_partitions, replication_factor):\n",
    "    \"\"\"Create a Kafka topic using MSK IAM authentication.\"\"\"\n",
    "    topic = NewTopic(name=topic_name, num_partitions=num_partitions, replication_factor=replication_factor)\n",
    "    #response = admin_client.create_topics([topic])\n",
    "    #print(response)\n",
    "    try:\n",
    "        response = admin_client.create_topics([topic])\n",
    "        # Fix: Correctly accessing the tuple structure\n",
    "        for topic_error in response.topic_errors:\n",
    "            topic_name, error_code, error_message = topic_error\n",
    "            if error_code == 0:\n",
    "                print(f\"Topic '{topic_name}' successfully created.\")\n",
    "            else:\n",
    "                print(f\"Error creating topic '{topic_name}': {error_message}\")\n",
    "    except KafkaError as e:\n",
    "        print(f\"KafkaError occurred: {e}\")\n",
    "    except Exception as e:\n",
    "        print(f\"Failed to create topic '{topic_name}': {e}\")\n",
    "    finally:\n",
    "        print(\"Topic creation attempt complete.\")"
   ]
  },
  {
   "cell_type": "code",
   "execution_count": 9,
   "id": "63dbf424-1f24-4514-88eb-707663804687",
   "metadata": {},
   "outputs": [
    {
     "name": "stdout",
     "output_type": "stream",
     "text": [
      "Topic 'ruby-msk-topic' successfully created.\n",
      "Topic creation attempt complete.\n"
     ]
    }
   ],
   "source": [
    "create_topic(\"ruby-msk-topic\",3,2)"
   ]
  },
  {
   "cell_type": "code",
   "execution_count": 30,
   "id": "e02106d4-affe-426f-8906-c4228673aa8f",
   "metadata": {},
   "outputs": [],
   "source": [
    "bootstrap_servers = [\"b-1-public.leonardocluster.ykfidp.c14.kafka.us-east-1.amazonaws.com:9198\",\"b-2-public.leonardocluster.ykfidp.c14.kafka.us-east-1.amazonaws.com:9198\"]\n",
    "topic_name = \"leonardo-msk-topic\""
   ]
  },
  {
   "cell_type": "code",
   "execution_count": 49,
   "id": "cc89c65a-9cf3-43f2-8d90-0c431cca0188",
   "metadata": {},
   "outputs": [],
   "source": [
    "producer = KafkaProducer(\n",
    "    bootstrap_servers=bootstrap_servers,\n",
    "    security_protocol=\"SASL_SSL\",\n",
    "    sasl_mechanism=\"OAUTHBEARER\",\n",
    "    sasl_oauth_token_provider=tp,\n",
    "    value_serializer=lambda v: json.dumps(v).encode('utf-8'),\n",
    "    client_id=socket.gethostname()\n",
    ")\n",
    "\n",
    "def send_message(topic_name, message):\n",
    "    \"\"\"Send a message to the specified Kafka topic.\"\"\"\n",
    "    try:\n",
    "        future = producer.send(topic_name, value=message)\n",
    "        record_metadata = future.get(timeout=10)\n",
    "        print(f\"Message sent to {record_metadata.topic} partition {record_metadata.partition} offset {record_metadata.offset}\")\n",
    "    except Exception as e:\n",
    "        print(f\"Failed to send message: {e}\")"
   ]
  },
  {
   "cell_type": "code",
   "execution_count": 50,
   "id": "bc9150e2-6247-407c-9f33-794228ca0c14",
   "metadata": {},
   "outputs": [
    {
     "name": "stdout",
     "output_type": "stream",
     "text": [
      "Message sent to leonardo-msk-topic partition 1 offset 1\n"
     ]
    }
   ],
   "source": [
    "send_message(topic_name, {\"event\": \"Hello Leonardo!\", \"type\": \"greeting\"})\n",
    "producer.close()"
   ]
  },
  {
   "cell_type": "code",
   "execution_count": 51,
   "id": "28fc5efa-cdb2-491e-94ac-d07c2ce9e108",
   "metadata": {},
   "outputs": [],
   "source": [
    "consumer = KafkaConsumer(\n",
    "    topic_name,\n",
    "    bootstrap_servers=bootstrap_servers,\n",
    "    security_protocol=\"SASL_SSL\",\n",
    "    sasl_mechanism=\"OAUTHBEARER\",\n",
    "    sasl_oauth_token_provider=tp,\n",
    "    value_deserializer=lambda v: json.loads(v.decode('utf-8')),\n",
    "    group_id=\"leonardo-group\",\n",
    "    client_id=socket.gethostname(),\n",
    "    auto_offset_reset=\"earliest\"\n",
    ")\n",
    "\n",
    "# Consume messages from the Kafka topic\n",
    "def consume_messages():\n",
    "    try:\n",
    "        print(\"Starting consumer...\")\n",
    "        for message in consumer:\n",
    "            print(f\"Received message: {message.value} from topic {message.topic} partition {message.partition} offset {message.offset}\")\n",
    "    except Exception as e:\n",
    "        print(f\"Error while consuming messages: {e}\")\n",
    "    finally:\n",
    "        consumer.close()"
   ]
  },
  {
   "cell_type": "code",
   "execution_count": null,
   "id": "376475df-1f33-46b7-a29c-d14612f1bb6a",
   "metadata": {},
   "outputs": [
    {
     "name": "stdout",
     "output_type": "stream",
     "text": [
      "Starting consumer...\n",
      "Received message: {'event': 'Hello Leonardo!', 'type': 'greeting'} from topic leonardo-msk-topic partition 1 offset 1\n"
     ]
    }
   ],
   "source": [
    "consume_messages()"
   ]
  },
  {
   "cell_type": "code",
   "execution_count": null,
   "id": "cf5cf690-a70d-4e52-aa99-da2ebbcac64a",
   "metadata": {},
   "outputs": [],
   "source": []
  }
 ],
 "metadata": {
  "kernelspec": {
   "display_name": "Python 3 (ipykernel)",
   "language": "python",
   "name": "python3"
  },
  "language_info": {
   "codemirror_mode": {
    "name": "ipython",
    "version": 3
   },
   "file_extension": ".py",
   "mimetype": "text/x-python",
   "name": "python",
   "nbconvert_exporter": "python",
   "pygments_lexer": "ipython3",
   "version": "3.9.7"
  }
 },
 "nbformat": 4,
 "nbformat_minor": 5
}
